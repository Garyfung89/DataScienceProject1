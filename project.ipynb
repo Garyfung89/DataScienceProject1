{
 "cells": [
  {
   "cell_type": "markdown",
   "metadata": {},
   "source": [
    "# **University, Happiness and Healthy Life Expectancy**"
   ]
  },
  {
   "cell_type": "markdown",
   "metadata": {},
   "source": [
    "## **Table of Content** ##\n",
    "\n",
    "1. Introduction\n",
    "2. Data File\n",
    "3. Data import & Data wrangling\n",
    "4. Analysis and answer to the questions\n",
    "5. Findings and Conclusions\n",
    "6. Recommendations\n",
    "7. References"
   ]
  },
  {
   "cell_type": "markdown",
   "metadata": {},
   "source": [
    "### **1. Introduction** ###"
   ]
  },
  {
   "cell_type": "markdown",
   "metadata": {},
   "source": [
    "Universities play an important role in building of new institutions of civil society, development of new cultural values and engineering transformation in one society’s economic, political, social and cultural aspects. Many past studies have evaluated how a university degree affects the lifespan of people in any given country. This project focuses on the correlation between the number of universities on the level of happiness and life expectancy of the people in a country.\n",
    "\n",
    "The first part of this project discusses the number of universities each year from 2017 to 2022 in the world according to QS World University Rankings. “Ranked university” refers to a university which is listed in the annual publication of global university rankings by Quacquarelli Symonds. This first part explores further the distribution of ranked university in the world according to the country and region, the ratio of the number of ranked university to a population of one million and 1000 square kilometres in each country. It also highlights the top 10 countries that has the largest number of ranked university.\n",
    "\n",
    "The second part of this project explores if there is a relationship between level of happiness and life expectancy. It will further discuss the relationship between the number of university and the level of happiness and life expectancy."
   ]
  },
  {
   "cell_type": "markdown",
   "metadata": {},
   "source": [
    "Questions to be answered:\n",
    "1. How many ranked university worldwide are there each year from 2017 to 2022? What is the distribution of the ranked university according to its type in 2022?\n",
    "2. What is the distribution of the ranked university worldwide in terms of country and region? Which 10 countries have the most ranked universities?\n",
    "3. What is the ratio of the number of ranked university to a population of one million in each country?\n",
    "4. What is the ratio of the number of ranked university to 1000 square kilometers in each country?\n",
    "5. What is the level of happiness and healthy life expectancy of each country based on the data in 2020?\n",
    "6. Is there a relationship between level of happiness and healthy life expectancy in each country based on the data in 2020?\n",
    "7. What is the change in healthy life expectancy from 1960 to 2020 worldwide?\n",
    "8. Is there a relationship between the number of ranked universities and the level of happiness and healthy life expectancy?"
   ]
  },
  {
   "cell_type": "markdown",
   "metadata": {},
   "source": [
    "### **2. Data File** ###"
   ]
  },
  {
   "cell_type": "markdown",
   "metadata": {},
   "source": [
    "This notebook uses the below four data files. The key that links the files is the column \"Country\", \"Country Name\" or \"Country/Territory\"."
   ]
  },
  {
   "cell_type": "markdown",
   "metadata": {},
   "source": [
    "**qs-world-university-rankings-2017-to-2022-V2.csv**\n",
    "\n",
    "File obtained from [kaggle](https://www.kaggle.com/datasets/padhmam/qs-world-university-rankings-2017-2022). The author consolidates the ranking from QS World University Rankings, between 2017 - 2022. In this analysis, I will include the following columns: \n",
    "\n",
    "* university - name of the university\n",
    "* year - year of ranking\n",
    "* country - country in which the university is located\n",
    "* region - continent in which the university is located\n",
    "* type - type of university\n",
    "\n",
    "**world_population.csv**\n",
    "\n",
    "File obtained from \n",
    "[kaggle](https://www.kaggle.com/datasets/iamsouravbanerjee/world-population-dataset). The dataset contains Population data of every Country/Territory in the world. The main columns I am using are as follows:\n",
    "* Country/Territories: Name of the Country/Territories.\n",
    "* Continent: Name of the Continent.\n",
    "* 2020 Population: Population of the Country/Territories in the year 2020.\n",
    "* Area (km²): Area size of the Country/Territories in square kilometer.\n",
    "\n",
    "**WHR20_DataForFigure2.1.csv**\n",
    "\n",
    "File obtained from [kaggle](https://www.kaggle.com/datasets/londeen/world-happiness-report-2020). This contains the data used to calculate the Happiness Score for 153 countries. Main columns I am using in the analys are as follows:\n",
    "* Country name: The name of the Country\n",
    "* Ladder score: The Happiness Score for the Country\n",
    "* Healthy life expectancy: Healthy life expectancies at birth are based on the data extracted from the World\n",
    "\n",
    "\n",
    "**API_SP.DYN.LE00.IN_DS2_en_csv_v2_4700946.csv**\n",
    "\n",
    "File obtained from \n",
    "[World Bank](https://data.worldbank.org/indicator/SP.DYN.LE00.IN?most_recent_year_desc=true). Life expectancy at birth, total (years) from 1960 to 2020. The columns we are using in the analysis are as follows:\n",
    "* Country Name\n",
    "* 1960 - Life expectnacy at 1960\n",
    "* 2020 - Life expectnacy at 2020\n",
    "\n"
   ]
  },
  {
   "cell_type": "code",
   "execution_count": 142,
   "metadata": {},
   "outputs": [],
   "source": [
    "# Start by importing required modules\n",
    "import pandas as pd\n",
    "import matplotlib.pyplot as plt\n",
    "import seaborn as sns\n",
    "from math import log\n",
    "from numpy import where\n",
    "\n",
    "%matplotlib inline"
   ]
  },
  {
   "cell_type": "markdown",
   "metadata": {},
   "source": [
    "### **3. Data import & Data wrangling** ###"
   ]
  },
  {
   "cell_type": "code",
   "execution_count": 143,
   "metadata": {},
   "outputs": [],
   "source": [
    "df_life_expect = pd.read_csv('API_SP.DYN.LE00.IN_DS2_en_csv_v2_4700946.csv', skiprows=4, thousands=',')\n",
    "df_happiness = pd.read_csv('WHR20_DataForFigure2.1.csv', thousands=',')\n",
    "df_uni = pd.read_csv('qs-world-university-rankings-2017-to-2022-V2.csv', thousands=',')\n",
    "df_pop = pd.read_csv('world_population.csv', thousands=',')"
   ]
  },
  {
   "cell_type": "markdown",
   "metadata": {},
   "source": [
    "The country/territory may be not the same in the files, so I have to align them in order to join them together for analysis. I will the country name in the world population set as standard."
   ]
  },
  {
   "cell_type": "code",
   "execution_count": 144,
   "metadata": {},
   "outputs": [],
   "source": [
    "country_rename_list = {\n",
    "    'Syrian Arab Republic':'Syria',\n",
    "    'Macau SAR':'Macau',\n",
    "    'Palestinian Territory, Occupied':'Palestine',\n",
    "    'Iran, Islamic Republic of':'Iran',\n",
    "    'Hong Kong SAR':'Hong Kong',\n",
    "    'China (Mainland)':'China'\n",
    "}\n",
    "country_rename_list2 = {\n",
    "    'Hong Kong S.A.R. of China': 'Hong Kong',\n",
    "    'Taiwan Province of China': 'Taiwan',\n",
    "    'Palestinian Territories': 'Palestine'\n",
    "}\n",
    "country_rename_list3 = {\n",
    "    'Syrian Arab Republic': 'Syria',\n",
    "    'Brunei Darussalam': 'Brunei',\n",
    "    'Macao SAR, China': 'Macau',\n",
    "    'Venezuela, RB': 'Venezuela',\n",
    "    'Slovak Republic': 'Slovakia',\n",
    "    'Iran, Islamic Rep.': 'Iran',\n",
    "    'Hong Kong SAR, China': 'Hong Kong',\n",
    "    'Russian Federation': 'Russia',\n",
    "    'Korea, Rep.': 'South Korea',\n",
    "    'Turkiye': 'Turkey',\n",
    "    'Czechia': 'Czech Republic', \n",
    "    'Egypt, Arab Rep.': 'Egypt'\n",
    "}\n",
    "for name, to_rename in country_rename_list.items():\n",
    "    df_uni['country'] = df_uni['country'].replace(name, to_rename)\n",
    "\n",
    "for name, to_rename in country_rename_list2.items():\n",
    "    df_happiness['Country name'] = df_happiness['Country name'].replace(name, to_rename)\n",
    "\n",
    "for name, to_rename in country_rename_list3.items():\n",
    "    df_life_expect['Country Name'] = df_life_expect['Country Name'].replace(name, to_rename)\n",
    "\n",
    "# Remove those countries without 1960 and 2020 data\n",
    "df_life_expect = df_life_expect[df_life_expect['1960'].notnull() & df_life_expect['2020'].notnull()]\n"
   ]
  },
  {
   "cell_type": "markdown",
   "metadata": {},
   "source": [
    "### **4. Analysis and answer to the questions** ###"
   ]
  },
  {
   "cell_type": "markdown",
   "metadata": {},
   "source": [
    "**Q1. How many ranked university worldwide each year from 2017 to 2022? What is the distribution of the ranked university according to its type in 2022?**\n",
    "\n",
    "First of all, let's look at the data about university from QS World Ranking."
   ]
  },
  {
   "cell_type": "code",
   "execution_count": 145,
   "metadata": {},
   "outputs": [
    {
     "data": {
      "text/plain": [
       "<AxesSubplot:title={'center':'Ranked univesity from 2017-2022'}, xlabel='Year', ylabel='No. of ranked university'>"
      ]
     },
     "execution_count": 145,
     "metadata": {},
     "output_type": "execute_result"
    },
    {
     "data": {
      "image/png": "[encoded data removed]",
      "text/plain": [
       "<Figure size 864x576 with 1 Axes>"
      ]
     },
     "metadata": {
      "needs_background": "light"
     },
     "output_type": "display_data"
    }
   ],
   "source": [
    "s_uni_year_type = df_uni.groupby(['year', 'type']).size()\n",
    "df_uni_year_type = s_uni_year_type.unstack()\n",
    "\n",
    "# Plot the horizontal bar\n",
    "df_uni_year_type[['Private', 'Public']].plot(\n",
    "    kind = 'bar',\n",
    "    stacked = True,\n",
    "    color = ['purple', 'green'], \n",
    "    figsize = [12, 8],\n",
    "    xlabel  = 'Year',\n",
    "    ylabel ='No. of ranked university',\n",
    "    title = 'Ranked univesity from 2017-2022'\n",
    ")"
   ]
  },
  {
   "cell_type": "markdown",
   "metadata": {},
   "source": [
    "Based on 2022 data, let's find out the ratio of the university type."
   ]
  },
  {
   "cell_type": "code",
   "execution_count": 146,
   "metadata": {},
   "outputs": [
    {
     "data": {
      "text/plain": [
       "<AxesSubplot:title={'center':'Type of univesity on 2022'}, ylabel='University Type'>"
      ]
     },
     "execution_count": 146,
     "metadata": {},
     "output_type": "execute_result"
    },
    {
     "data": {
      "image/png": "[encoded data removed]",
      "text/plain": [
       "<Figure size 864x576 with 1 Axes>"
      ]
     },
     "metadata": {},
     "output_type": "display_data"
    }
   ],
   "source": [
    "df_uni_2022 = df_uni[df_uni['year'] == 2022]\n",
    "s_uni_type = df_uni_2022.groupby(['type']).size()\n",
    "s_uni_type.plot(\n",
    "    title='Type of univesity on 2022',\n",
    "    kind='pie', \n",
    "    figsize = [12, 8],\n",
    "    ylabel = 'University Type',\n",
    "    autopct='%1.1f%%', \n",
    "    fontsize=10\n",
    ")"
   ]
  },
  {
   "cell_type": "markdown",
   "metadata": {},
   "source": [
    "**Answer to Q1**\n",
    "\n",
    "The number of ranked university increases from 800 to around 1,300 from 2017 to 2022. In 2022, among them,19% are private while 81% are public."
   ]
  },
  {
   "cell_type": "markdown",
   "metadata": {},
   "source": [
    "**Q2. What is the distribution of the ranked university worldwide in terms of country and region? Which 10 countries have the most ranked universities?**"
   ]
  },
  {
   "cell_type": "code",
   "execution_count": 147,
   "metadata": {},
   "outputs": [
    {
     "name": "stdout",
     "output_type": "stream",
     "text": [
      "No of country with ranked university: 97\n"
     ]
    },
    {
     "data": {
      "text/plain": [
       "<AxesSubplot:title={'center':'Top 10 countries with most ranked universities'}, xlabel='Country', ylabel='No. of ranked university'>"
      ]
     },
     "execution_count": 147,
     "metadata": {},
     "output_type": "execute_result"
    },
    {
     "data": {
      "image/png": "[encoded data removed]",
      "text/plain": [
       "<Figure size 864x576 with 1 Axes>"
      ]
     },
     "metadata": {
      "needs_background": "light"
     },
     "output_type": "display_data"
    }
   ],
   "source": [
    "# Obtain the required columns only\n",
    "\n",
    "df_uni_country = df_uni[['university','country']]\n",
    "df_uni_country = df_uni_country.drop_duplicates()\n",
    "\n",
    "s_uni_country = df_uni_country.groupby(['country']).size()\n",
    "print(f'No of country with ranked university: {s_uni_country.size}')\n",
    "\n",
    "s_uni_country.sort_values(ascending=False, inplace=True)\n",
    "s_uni_country_top10 = s_uni_country.iloc[:10]\n",
    "\n",
    "s_uni_country_top10.plot(\n",
    "    title = 'Top 10 countries with most ranked universities',\n",
    "    kind='bar',    \n",
    "    figsize = [12, 8],\n",
    "    xlabel = 'Country',\n",
    "    ylabel = 'No. of ranked university',\n",
    "    color = 'green'\n",
    ")"
   ]
  },
  {
   "cell_type": "markdown",
   "metadata": {},
   "source": [
    "Now, group the data in regions."
   ]
  },
  {
   "cell_type": "code",
   "execution_count": 148,
   "metadata": {},
   "outputs": [
    {
     "data": {
      "text/plain": [
       "<AxesSubplot:title={'center':'Ranked university across region'}, ylabel='None'>"
      ]
     },
     "execution_count": 148,
     "metadata": {},
     "output_type": "execute_result"
    },
    {
     "data": {
      "image/png": "[encoded data removed]",
      "text/plain": [
       "<Figure size 864x576 with 1 Axes>"
      ]
     },
     "metadata": {},
     "output_type": "display_data"
    }
   ],
   "source": [
    "# Distribution of ranked universities across world regions\n",
    "\n",
    "df_uni_region = df_uni[['university','region']]\n",
    "df_uni_region = df_uni_region.drop_duplicates()\n",
    "\n",
    "s_uni_region = df_uni_region.groupby(['region']).size()\n",
    "s_uni_region.sort_values(ascending=False, inplace=True)\n",
    "\n",
    "s_uni_region.plot(\n",
    "    title = 'Ranked university across region',\n",
    "    kind='pie', \n",
    "    figsize = [12, 8],\n",
    "    autopct='%1.1f%%'\n",
    ")"
   ]
  },
  {
   "cell_type": "markdown",
   "metadata": {},
   "source": [
    "**Answer to Q2** \n",
    "\n",
    "The result shows that the ranked universities are distributed amongst an aggregate total of 97 countries/territories.\n",
    "\n",
    "It is found that that the country/territory having the highest number of ranked universities is United States, accounting for 10% worldwide. The next 9 countries are United Kingdom, China, France, Japan, Russia, Italy, South Korea and Australia.\n",
    "\n",
    "Europe, bearing the highest number of ranked universities amongst the 6 regions and accounting for 37.1% share worldwide, comes as no surprise.  This could be explained by 4 of top 10 countries with highest number ranked universities, namely United Kingdom, France, Russia and Italy are located at Europe.\n",
    "\n"
   ]
  },
  {
   "cell_type": "markdown",
   "metadata": {},
   "source": [
    "**Q3. What is the ratio of the number of ranked university to a population of 1 million in each country?**\n",
    "\n",
    "Let's take the population of the countries into the account for the analysis."
   ]
  },
  {
   "cell_type": "code",
   "execution_count": 149,
   "metadata": {},
   "outputs": [
    {
     "data": {
      "text/html": [
       "<div>\n",
       "<style scoped>\n",
       "    .dataframe tbody tr th:only-of-type {\n",
       "        vertical-align: middle;\n",
       "    }\n",
       "\n",
       "    .dataframe tbody tr th {\n",
       "        vertical-align: top;\n",
       "    }\n",
       "\n",
       "    .dataframe thead th {\n",
       "        text-align: right;\n",
       "    }\n",
       "</style>\n",
       "<table border=\"1\" class=\"dataframe\">\n",
       "  <thead>\n",
       "    <tr style=\"text-align: right;\">\n",
       "      <th></th>\n",
       "      <th>index</th>\n",
       "      <th>Country/Territory</th>\n",
       "      <th>uni_count</th>\n",
       "      <th>2020 Population</th>\n",
       "      <th>uni_per_million</th>\n",
       "    </tr>\n",
       "  </thead>\n",
       "  <tbody>\n",
       "    <tr>\n",
       "      <th>0</th>\n",
       "      <td>81</td>\n",
       "      <td>Brunei</td>\n",
       "      <td>2</td>\n",
       "      <td>441725</td>\n",
       "      <td>4.527704</td>\n",
       "    </tr>\n",
       "    <tr>\n",
       "      <th>1</th>\n",
       "      <td>77</td>\n",
       "      <td>Macau</td>\n",
       "      <td>2</td>\n",
       "      <td>676283</td>\n",
       "      <td>2.957342</td>\n",
       "    </tr>\n",
       "    <tr>\n",
       "      <th>2</th>\n",
       "      <td>72</td>\n",
       "      <td>Estonia</td>\n",
       "      <td>3</td>\n",
       "      <td>1329444</td>\n",
       "      <td>2.256582</td>\n",
       "    </tr>\n",
       "    <tr>\n",
       "      <th>3</th>\n",
       "      <td>71</td>\n",
       "      <td>Bahrain</td>\n",
       "      <td>3</td>\n",
       "      <td>1477469</td>\n",
       "      <td>2.030499</td>\n",
       "    </tr>\n",
       "    <tr>\n",
       "      <th>4</th>\n",
       "      <td>30</td>\n",
       "      <td>Finland</td>\n",
       "      <td>11</td>\n",
       "      <td>5529468</td>\n",
       "      <td>1.989341</td>\n",
       "    </tr>\n",
       "    <tr>\n",
       "      <th>5</th>\n",
       "      <td>93</td>\n",
       "      <td>Malta</td>\n",
       "      <td>1</td>\n",
       "      <td>515357</td>\n",
       "      <td>1.940402</td>\n",
       "    </tr>\n",
       "    <tr>\n",
       "      <th>6</th>\n",
       "      <td>38</td>\n",
       "      <td>New Zealand</td>\n",
       "      <td>9</td>\n",
       "      <td>5061133</td>\n",
       "      <td>1.778258</td>\n",
       "    </tr>\n",
       "    <tr>\n",
       "      <th>7</th>\n",
       "      <td>54</td>\n",
       "      <td>Lithuania</td>\n",
       "      <td>5</td>\n",
       "      <td>2820267</td>\n",
       "      <td>1.772882</td>\n",
       "    </tr>\n",
       "    <tr>\n",
       "      <th>8</th>\n",
       "      <td>43</td>\n",
       "      <td>Ireland</td>\n",
       "      <td>8</td>\n",
       "      <td>4946119</td>\n",
       "      <td>1.617430</td>\n",
       "    </tr>\n",
       "    <tr>\n",
       "      <th>9</th>\n",
       "      <td>65</td>\n",
       "      <td>Latvia</td>\n",
       "      <td>3</td>\n",
       "      <td>1897052</td>\n",
       "      <td>1.581401</td>\n",
       "    </tr>\n",
       "  </tbody>\n",
       "</table>\n",
       "</div>"
      ],
      "text/plain": [
       "   index Country/Territory  uni_count  2020 Population  uni_per_million\n",
       "0     81            Brunei          2           441725         4.527704\n",
       "1     77             Macau          2           676283         2.957342\n",
       "2     72           Estonia          3          1329444         2.256582\n",
       "3     71           Bahrain          3          1477469         2.030499\n",
       "4     30           Finland         11          5529468         1.989341\n",
       "5     93             Malta          1           515357         1.940402\n",
       "6     38       New Zealand          9          5061133         1.778258\n",
       "7     54         Lithuania          5          2820267         1.772882\n",
       "8     43           Ireland          8          4946119         1.617430\n",
       "9     65            Latvia          3          1897052         1.581401"
      ]
     },
     "execution_count": 149,
     "metadata": {},
     "output_type": "execute_result"
    }
   ],
   "source": [
    "df_uni_country_cnt = pd.DataFrame(s_uni_country)\n",
    "df_uni_country_cnt['country_name'] = df_uni_country_cnt.index\n",
    "df_uni_country_cnt = df_uni_country_cnt.rename(columns= {0: 'uni_count'})\n",
    "\n",
    "df_uni_pop = df_uni_country_cnt.merge(df_pop, how='left', left_on = 'country', right_on = 'Country/Territory')\n",
    "\n",
    "df_uni_pop['uni_per_million'] = (df_uni_pop['uni_count'] / df_uni_pop['2020 Population']) * 1000000\n",
    "\n",
    "df_uni_cnt_population = df_uni_pop[['Country/Territory', 'uni_count', '2020 Population', 'uni_per_million']]\n",
    "df_uni_cnt_per_million = df_uni_cnt_population.sort_values(by='uni_per_million', ascending=False)\n",
    "\n",
    "df_uni_cnt_per_million.reset_index(inplace=True)\n",
    "df_uni_cnt_per_million.head(10)"
   ]
  },
  {
   "cell_type": "code",
   "execution_count": 150,
   "metadata": {},
   "outputs": [
    {
     "data": {
      "text/plain": [
       "<AxesSubplot:title={'center':'University per population in one million'}, xlabel='Country/Territory'>"
      ]
     },
     "execution_count": 150,
     "metadata": {},
     "output_type": "execute_result"
    },
    {
     "data": {
      "image/png": "[encoded data removed]",
      "text/plain": [
       "<Figure size 864x576 with 1 Axes>"
      ]
     },
     "metadata": {
      "needs_background": "light"
     },
     "output_type": "display_data"
    }
   ],
   "source": [
    "df_uni_cnt_per_million[['Country/Territory','uni_per_million']].head(10).plot(\n",
    "    title = 'University per population in one million',\n",
    "    kind = 'bar', \n",
    "    figsize = [12, 8],\n",
    "    x = 'Country/Territory',\n",
    "    y = 'uni_per_million',\n",
    "    color='purple'\n",
    ")"
   ]
  },
  {
   "cell_type": "markdown",
   "metadata": {},
   "source": [
    "Let's look at the top 10 countries with highest number of ranked universities."
   ]
  },
  {
   "cell_type": "code",
   "execution_count": 151,
   "metadata": {},
   "outputs": [
    {
     "data": {
      "text/html": [
       "<div>\n",
       "<style scoped>\n",
       "    .dataframe tbody tr th:only-of-type {\n",
       "        vertical-align: middle;\n",
       "    }\n",
       "\n",
       "    .dataframe tbody tr th {\n",
       "        vertical-align: top;\n",
       "    }\n",
       "\n",
       "    .dataframe thead th {\n",
       "        text-align: right;\n",
       "    }\n",
       "</style>\n",
       "<table border=\"1\" class=\"dataframe\">\n",
       "  <thead>\n",
       "    <tr style=\"text-align: right;\">\n",
       "      <th></th>\n",
       "      <th>index</th>\n",
       "      <th>Country/Territory</th>\n",
       "      <th>uni_count</th>\n",
       "      <th>2020 Population</th>\n",
       "      <th>uni_per_million</th>\n",
       "    </tr>\n",
       "  </thead>\n",
       "  <tbody>\n",
       "    <tr>\n",
       "      <th>11</th>\n",
       "      <td>9</td>\n",
       "      <td>Australia</td>\n",
       "      <td>38</td>\n",
       "      <td>25670051</td>\n",
       "      <td>1.480324</td>\n",
       "    </tr>\n",
       "    <tr>\n",
       "      <th>13</th>\n",
       "      <td>1</td>\n",
       "      <td>United Kingdom</td>\n",
       "      <td>94</td>\n",
       "      <td>67059474</td>\n",
       "      <td>1.401741</td>\n",
       "    </tr>\n",
       "    <tr>\n",
       "      <th>28</th>\n",
       "      <td>3</td>\n",
       "      <td>France</td>\n",
       "      <td>56</td>\n",
       "      <td>64480053</td>\n",
       "      <td>0.868486</td>\n",
       "    </tr>\n",
       "    <tr>\n",
       "      <th>33</th>\n",
       "      <td>7</td>\n",
       "      <td>Italy</td>\n",
       "      <td>46</td>\n",
       "      <td>59500579</td>\n",
       "      <td>0.773102</td>\n",
       "    </tr>\n",
       "    <tr>\n",
       "      <th>34</th>\n",
       "      <td>8</td>\n",
       "      <td>South Korea</td>\n",
       "      <td>40</td>\n",
       "      <td>51844690</td>\n",
       "      <td>0.771535</td>\n",
       "    </tr>\n",
       "    <tr>\n",
       "      <th>45</th>\n",
       "      <td>5</td>\n",
       "      <td>Germany</td>\n",
       "      <td>49</td>\n",
       "      <td>83328988</td>\n",
       "      <td>0.588031</td>\n",
       "    </tr>\n",
       "    <tr>\n",
       "      <th>49</th>\n",
       "      <td>0</td>\n",
       "      <td>United States</td>\n",
       "      <td>180</td>\n",
       "      <td>335942003</td>\n",
       "      <td>0.535807</td>\n",
       "    </tr>\n",
       "    <tr>\n",
       "      <th>56</th>\n",
       "      <td>4</td>\n",
       "      <td>Japan</td>\n",
       "      <td>49</td>\n",
       "      <td>125244761</td>\n",
       "      <td>0.391234</td>\n",
       "    </tr>\n",
       "    <tr>\n",
       "      <th>61</th>\n",
       "      <td>6</td>\n",
       "      <td>Russia</td>\n",
       "      <td>49</td>\n",
       "      <td>145617329</td>\n",
       "      <td>0.336498</td>\n",
       "    </tr>\n",
       "    <tr>\n",
       "      <th>90</th>\n",
       "      <td>2</td>\n",
       "      <td>China</td>\n",
       "      <td>58</td>\n",
       "      <td>1424929781</td>\n",
       "      <td>0.040704</td>\n",
       "    </tr>\n",
       "  </tbody>\n",
       "</table>\n",
       "</div>"
      ],
      "text/plain": [
       "    index Country/Territory  uni_count  2020 Population  uni_per_million\n",
       "11      9         Australia         38         25670051         1.480324\n",
       "13      1    United Kingdom         94         67059474         1.401741\n",
       "28      3            France         56         64480053         0.868486\n",
       "33      7             Italy         46         59500579         0.773102\n",
       "34      8       South Korea         40         51844690         0.771535\n",
       "45      5           Germany         49         83328988         0.588031\n",
       "49      0     United States        180        335942003         0.535807\n",
       "56      4             Japan         49        125244761         0.391234\n",
       "61      6            Russia         49        145617329         0.336498\n",
       "90      2             China         58       1424929781         0.040704"
      ]
     },
     "execution_count": 151,
     "metadata": {},
     "output_type": "execute_result"
    }
   ],
   "source": [
    "df_top_10 = df_uni_cnt_per_million[df_uni_cnt_per_million['Country/Territory'].isin(s_uni_country_top10.keys())]\n",
    "df_top_10.head(10)"
   ]
  },
  {
   "cell_type": "markdown",
   "metadata": {},
   "source": [
    "**Answer to Q3**\n",
    "\n",
    "In the result, it is shown that Brunei has the highest ratio of ranked universities per capita, followed by Macau and Estonia.  None of the top 10 countries/territories having the highest ratio of ranked universities per capita are listed on the top 10 countries/territories with the highest number of ranked universities. \n",
    "\n",
    "Russia and China, listed as two of the top 10 countries with highest number of ranked universities, both of more than 100 million populations, are found in the lower half of the 97 countries."
   ]
  },
  {
   "cell_type": "markdown",
   "metadata": {},
   "source": [
    "**Q4. What is the ratio of the number of ranked university to 1000 square kilometers in the countries?**\n",
    "\n",
    "Now, let's take the area of the countries into account for the analysis."
   ]
  },
  {
   "cell_type": "code",
   "execution_count": 152,
   "metadata": {},
   "outputs": [
    {
     "data": {
      "text/html": [
       "<div>\n",
       "<style scoped>\n",
       "    .dataframe tbody tr th:only-of-type {\n",
       "        vertical-align: middle;\n",
       "    }\n",
       "\n",
       "    .dataframe tbody tr th {\n",
       "        vertical-align: top;\n",
       "    }\n",
       "\n",
       "    .dataframe thead th {\n",
       "        text-align: right;\n",
       "    }\n",
       "</style>\n",
       "<table border=\"1\" class=\"dataframe\">\n",
       "  <thead>\n",
       "    <tr style=\"text-align: right;\">\n",
       "      <th></th>\n",
       "      <th>index</th>\n",
       "      <th>Country/Territory</th>\n",
       "      <th>uni_count</th>\n",
       "      <th>Area (km²)</th>\n",
       "      <th>uni_per_1000km2</th>\n",
       "    </tr>\n",
       "  </thead>\n",
       "  <tbody>\n",
       "    <tr>\n",
       "      <th>0</th>\n",
       "      <td>77</td>\n",
       "      <td>Macau</td>\n",
       "      <td>2</td>\n",
       "      <td>30</td>\n",
       "      <td>66.666667</td>\n",
       "    </tr>\n",
       "    <tr>\n",
       "      <th>1</th>\n",
       "      <td>48</td>\n",
       "      <td>Hong Kong</td>\n",
       "      <td>7</td>\n",
       "      <td>1104</td>\n",
       "      <td>6.340580</td>\n",
       "    </tr>\n",
       "    <tr>\n",
       "      <th>2</th>\n",
       "      <td>67</td>\n",
       "      <td>Singapore</td>\n",
       "      <td>3</td>\n",
       "      <td>710</td>\n",
       "      <td>4.225352</td>\n",
       "    </tr>\n",
       "    <tr>\n",
       "      <th>3</th>\n",
       "      <td>71</td>\n",
       "      <td>Bahrain</td>\n",
       "      <td>3</td>\n",
       "      <td>765</td>\n",
       "      <td>3.921569</td>\n",
       "    </tr>\n",
       "    <tr>\n",
       "      <th>4</th>\n",
       "      <td>93</td>\n",
       "      <td>Malta</td>\n",
       "      <td>1</td>\n",
       "      <td>316</td>\n",
       "      <td>3.164557</td>\n",
       "    </tr>\n",
       "    <tr>\n",
       "      <th>5</th>\n",
       "      <td>12</td>\n",
       "      <td>Taiwan</td>\n",
       "      <td>28</td>\n",
       "      <td>36193</td>\n",
       "      <td>0.773630</td>\n",
       "    </tr>\n",
       "    <tr>\n",
       "      <th>6</th>\n",
       "      <td>44</td>\n",
       "      <td>Lebanon</td>\n",
       "      <td>8</td>\n",
       "      <td>10452</td>\n",
       "      <td>0.765404</td>\n",
       "    </tr>\n",
       "    <tr>\n",
       "      <th>7</th>\n",
       "      <td>70</td>\n",
       "      <td>Palestine</td>\n",
       "      <td>3</td>\n",
       "      <td>6220</td>\n",
       "      <td>0.482315</td>\n",
       "    </tr>\n",
       "    <tr>\n",
       "      <th>8</th>\n",
       "      <td>8</td>\n",
       "      <td>South Korea</td>\n",
       "      <td>40</td>\n",
       "      <td>100210</td>\n",
       "      <td>0.399162</td>\n",
       "    </tr>\n",
       "    <tr>\n",
       "      <th>9</th>\n",
       "      <td>1</td>\n",
       "      <td>United Kingdom</td>\n",
       "      <td>94</td>\n",
       "      <td>242900</td>\n",
       "      <td>0.386991</td>\n",
       "    </tr>\n",
       "  </tbody>\n",
       "</table>\n",
       "</div>"
      ],
      "text/plain": [
       "   index Country/Territory  uni_count  Area (km²)  uni_per_1000km2\n",
       "0     77             Macau          2          30        66.666667\n",
       "1     48         Hong Kong          7        1104         6.340580\n",
       "2     67         Singapore          3         710         4.225352\n",
       "3     71           Bahrain          3         765         3.921569\n",
       "4     93             Malta          1         316         3.164557\n",
       "5     12            Taiwan         28       36193         0.773630\n",
       "6     44           Lebanon          8       10452         0.765404\n",
       "7     70         Palestine          3        6220         0.482315\n",
       "8      8       South Korea         40      100210         0.399162\n",
       "9      1    United Kingdom         94      242900         0.386991"
      ]
     },
     "execution_count": 152,
     "metadata": {},
     "output_type": "execute_result"
    }
   ],
   "source": [
    "df_uni_pop['uni_per_1000km2'] = (df_uni_pop['uni_count'] / df_uni_pop['Area (km²)']) * 1000\n",
    "df_uni_cnt_population = df_uni_pop[['Country/Territory', 'uni_count', 'Area (km²)', 'uni_per_1000km2']]\n",
    "\n",
    "df_uni_cnt_per_area = df_uni_cnt_population.sort_values(by='uni_per_1000km2', ascending=False)\n",
    "df_uni_cnt_per_area.reset_index(inplace=True)\n",
    "df_uni_cnt_per_area.head(10)"
   ]
  },
  {
   "cell_type": "code",
   "execution_count": 153,
   "metadata": {},
   "outputs": [
    {
     "data": {
      "text/plain": [
       "<AxesSubplot:title={'center':'University per area in 1000 square kilometers'}, xlabel='Country/Territory'>"
      ]
     },
     "execution_count": 153,
     "metadata": {},
     "output_type": "execute_result"
    },
    {
     "data": {
      "image/png": "[encoded data removed]",
      "text/plain": [
       "<Figure size 864x576 with 1 Axes>"
      ]
     },
     "metadata": {
      "needs_background": "light"
     },
     "output_type": "display_data"
    }
   ],
   "source": [
    "df_uni_cnt_per_area[['Country/Territory','uni_per_1000km2']].head(10).plot(\n",
    "    title = 'University per area in 1000 square kilometers',\n",
    "    kind='bar', \n",
    "    figsize = [12, 8],\n",
    "    x = 'Country/Territory',\n",
    "    y = 'uni_per_1000km2',\n",
    "    color='orange'\n",
    ")\n"
   ]
  },
  {
   "cell_type": "markdown",
   "metadata": {},
   "source": [
    "Let's look at the top 10 countries with highest number of ranked universities."
   ]
  },
  {
   "cell_type": "code",
   "execution_count": 154,
   "metadata": {},
   "outputs": [
    {
     "data": {
      "text/html": [
       "<div>\n",
       "<style scoped>\n",
       "    .dataframe tbody tr th:only-of-type {\n",
       "        vertical-align: middle;\n",
       "    }\n",
       "\n",
       "    .dataframe tbody tr th {\n",
       "        vertical-align: top;\n",
       "    }\n",
       "\n",
       "    .dataframe thead th {\n",
       "        text-align: right;\n",
       "    }\n",
       "</style>\n",
       "<table border=\"1\" class=\"dataframe\">\n",
       "  <thead>\n",
       "    <tr style=\"text-align: right;\">\n",
       "      <th></th>\n",
       "      <th>index</th>\n",
       "      <th>Country/Territory</th>\n",
       "      <th>uni_count</th>\n",
       "      <th>Area (km²)</th>\n",
       "      <th>uni_per_1000km2</th>\n",
       "    </tr>\n",
       "  </thead>\n",
       "  <tbody>\n",
       "    <tr>\n",
       "      <th>8</th>\n",
       "      <td>8</td>\n",
       "      <td>South Korea</td>\n",
       "      <td>40</td>\n",
       "      <td>100210</td>\n",
       "      <td>0.399162</td>\n",
       "    </tr>\n",
       "    <tr>\n",
       "      <th>9</th>\n",
       "      <td>1</td>\n",
       "      <td>United Kingdom</td>\n",
       "      <td>94</td>\n",
       "      <td>242900</td>\n",
       "      <td>0.386991</td>\n",
       "    </tr>\n",
       "    <tr>\n",
       "      <th>17</th>\n",
       "      <td>7</td>\n",
       "      <td>Italy</td>\n",
       "      <td>46</td>\n",
       "      <td>301336</td>\n",
       "      <td>0.152654</td>\n",
       "    </tr>\n",
       "    <tr>\n",
       "      <th>19</th>\n",
       "      <td>5</td>\n",
       "      <td>Germany</td>\n",
       "      <td>49</td>\n",
       "      <td>357114</td>\n",
       "      <td>0.137211</td>\n",
       "    </tr>\n",
       "    <tr>\n",
       "      <th>21</th>\n",
       "      <td>4</td>\n",
       "      <td>Japan</td>\n",
       "      <td>49</td>\n",
       "      <td>377930</td>\n",
       "      <td>0.129654</td>\n",
       "    </tr>\n",
       "    <tr>\n",
       "      <th>27</th>\n",
       "      <td>3</td>\n",
       "      <td>France</td>\n",
       "      <td>56</td>\n",
       "      <td>551695</td>\n",
       "      <td>0.101505</td>\n",
       "    </tr>\n",
       "    <tr>\n",
       "      <th>59</th>\n",
       "      <td>0</td>\n",
       "      <td>United States</td>\n",
       "      <td>180</td>\n",
       "      <td>9372610</td>\n",
       "      <td>0.019205</td>\n",
       "    </tr>\n",
       "    <tr>\n",
       "      <th>80</th>\n",
       "      <td>2</td>\n",
       "      <td>China</td>\n",
       "      <td>58</td>\n",
       "      <td>9706961</td>\n",
       "      <td>0.005975</td>\n",
       "    </tr>\n",
       "    <tr>\n",
       "      <th>84</th>\n",
       "      <td>9</td>\n",
       "      <td>Australia</td>\n",
       "      <td>38</td>\n",
       "      <td>7692024</td>\n",
       "      <td>0.004940</td>\n",
       "    </tr>\n",
       "    <tr>\n",
       "      <th>91</th>\n",
       "      <td>6</td>\n",
       "      <td>Russia</td>\n",
       "      <td>49</td>\n",
       "      <td>17098242</td>\n",
       "      <td>0.002866</td>\n",
       "    </tr>\n",
       "  </tbody>\n",
       "</table>\n",
       "</div>"
      ],
      "text/plain": [
       "    index Country/Territory  uni_count  Area (km²)  uni_per_1000km2\n",
       "8       8       South Korea         40      100210         0.399162\n",
       "9       1    United Kingdom         94      242900         0.386991\n",
       "17      7             Italy         46      301336         0.152654\n",
       "19      5           Germany         49      357114         0.137211\n",
       "21      4             Japan         49      377930         0.129654\n",
       "27      3            France         56      551695         0.101505\n",
       "59      0     United States        180     9372610         0.019205\n",
       "80      2             China         58     9706961         0.005975\n",
       "84      9         Australia         38     7692024         0.004940\n",
       "91      6            Russia         49    17098242         0.002866"
      ]
     },
     "execution_count": 154,
     "metadata": {},
     "output_type": "execute_result"
    }
   ],
   "source": [
    "df_top_10 = df_uni_cnt_per_area[df_uni_cnt_per_area['Country/Territory'].isin(s_uni_country_top10.keys())]\n",
    "df_top_10.head(10)"
   ]
  },
  {
   "cell_type": "markdown",
   "metadata": {},
   "source": [
    "**Answer to Q4**\n",
    "\n",
    "In the result, it is shown that Macau has the highest ratio of ranked universities per Earth’s surface, followed by Hong Kong and Singapore. Other than South Korea and United Kingdom, none of the top 10 countries having the highest ratio of ranked universities per Earth’s surface is included in the top 10 countries having the most ranked universities. \n",
    "\n",
    "Countries occupying more than 7 million square kilometers of Earth’s surface, such as Australia, China and Russia, are found in the lower half of the 97 countries."
   ]
  },
  {
   "cell_type": "markdown",
   "metadata": {},
   "source": [
    "**Q5. What is the level of happiness and healthy life expectancy of each country based on the data in 2020?**\n",
    "\n",
    "Let's move to level of happiess and healthy life expectany. The dataset is based on the World Happiess Report by World Bank on 2020."
   ]
  },
  {
   "cell_type": "code",
   "execution_count": 155,
   "metadata": {},
   "outputs": [],
   "source": [
    "df_happiness = df_happiness[['Country name', 'Regional indicator', 'Ladder score', 'Healthy life expectancy']]"
   ]
  },
  {
   "cell_type": "code",
   "execution_count": 156,
   "metadata": {},
   "outputs": [
    {
     "data": {
      "text/plain": [
       "count    153.00000\n",
       "mean       5.47324\n",
       "std        1.11227\n",
       "min        2.56690\n",
       "25%        4.72410\n",
       "50%        5.51500\n",
       "75%        6.22850\n",
       "max        7.80870\n",
       "Name: Ladder score, dtype: float64"
      ]
     },
     "execution_count": 156,
     "metadata": {},
     "output_type": "execute_result"
    }
   ],
   "source": [
    "df_happiness['Ladder score'].describe()"
   ]
  },
  {
   "cell_type": "code",
   "execution_count": 157,
   "metadata": {},
   "outputs": [
    {
     "data": {
      "text/plain": [
       "<AxesSubplot:>"
      ]
     },
     "execution_count": 157,
     "metadata": {},
     "output_type": "execute_result"
    },
    {
     "data": {
      "image/png": "[encoded data removed]",
      "text/plain": [
       "<Figure size 864x576 with 1 Axes>"
      ]
     },
     "metadata": {
      "needs_background": "light"
     },
     "output_type": "display_data"
    }
   ],
   "source": [
    "df_happiness['Ladder score'].plot(\n",
    "    kind = 'box',\n",
    "    figsize = [12, 8]\n",
    ")"
   ]
  },
  {
   "cell_type": "markdown",
   "metadata": {},
   "source": [
    "Now, sort the country by the Ladder Score"
   ]
  },
  {
   "cell_type": "code",
   "execution_count": 158,
   "metadata": {},
   "outputs": [
    {
     "data": {
      "text/html": [
       "<div>\n",
       "<style scoped>\n",
       "    .dataframe tbody tr th:only-of-type {\n",
       "        vertical-align: middle;\n",
       "    }\n",
       "\n",
       "    .dataframe tbody tr th {\n",
       "        vertical-align: top;\n",
       "    }\n",
       "\n",
       "    .dataframe thead th {\n",
       "        text-align: right;\n",
       "    }\n",
       "</style>\n",
       "<table border=\"1\" class=\"dataframe\">\n",
       "  <thead>\n",
       "    <tr style=\"text-align: right;\">\n",
       "      <th></th>\n",
       "      <th>Country name</th>\n",
       "      <th>Regional indicator</th>\n",
       "      <th>Ladder score</th>\n",
       "      <th>Healthy life expectancy</th>\n",
       "    </tr>\n",
       "  </thead>\n",
       "  <tbody>\n",
       "    <tr>\n",
       "      <th>9</th>\n",
       "      <td>Luxembourg</td>\n",
       "      <td>Western Europe</td>\n",
       "      <td>7.2375</td>\n",
       "      <td>72.599998</td>\n",
       "    </tr>\n",
       "    <tr>\n",
       "      <th>8</th>\n",
       "      <td>Austria</td>\n",
       "      <td>Western Europe</td>\n",
       "      <td>7.2942</td>\n",
       "      <td>73.002502</td>\n",
       "    </tr>\n",
       "    <tr>\n",
       "      <th>7</th>\n",
       "      <td>New Zealand</td>\n",
       "      <td>North America and ANZ</td>\n",
       "      <td>7.2996</td>\n",
       "      <td>73.202629</td>\n",
       "    </tr>\n",
       "    <tr>\n",
       "      <th>6</th>\n",
       "      <td>Sweden</td>\n",
       "      <td>Western Europe</td>\n",
       "      <td>7.3535</td>\n",
       "      <td>72.600769</td>\n",
       "    </tr>\n",
       "    <tr>\n",
       "      <th>5</th>\n",
       "      <td>Netherlands</td>\n",
       "      <td>Western Europe</td>\n",
       "      <td>7.4489</td>\n",
       "      <td>72.300919</td>\n",
       "    </tr>\n",
       "    <tr>\n",
       "      <th>4</th>\n",
       "      <td>Norway</td>\n",
       "      <td>Western Europe</td>\n",
       "      <td>7.4880</td>\n",
       "      <td>73.200783</td>\n",
       "    </tr>\n",
       "    <tr>\n",
       "      <th>3</th>\n",
       "      <td>Iceland</td>\n",
       "      <td>Western Europe</td>\n",
       "      <td>7.5045</td>\n",
       "      <td>73.000000</td>\n",
       "    </tr>\n",
       "    <tr>\n",
       "      <th>2</th>\n",
       "      <td>Switzerland</td>\n",
       "      <td>Western Europe</td>\n",
       "      <td>7.5599</td>\n",
       "      <td>74.102448</td>\n",
       "    </tr>\n",
       "    <tr>\n",
       "      <th>1</th>\n",
       "      <td>Denmark</td>\n",
       "      <td>Western Europe</td>\n",
       "      <td>7.6456</td>\n",
       "      <td>72.402504</td>\n",
       "    </tr>\n",
       "    <tr>\n",
       "      <th>0</th>\n",
       "      <td>Finland</td>\n",
       "      <td>Western Europe</td>\n",
       "      <td>7.8087</td>\n",
       "      <td>71.900825</td>\n",
       "    </tr>\n",
       "  </tbody>\n",
       "</table>\n",
       "</div>"
      ],
      "text/plain": [
       "  Country name     Regional indicator  Ladder score  Healthy life expectancy\n",
       "9   Luxembourg         Western Europe        7.2375                72.599998\n",
       "8      Austria         Western Europe        7.2942                73.002502\n",
       "7  New Zealand  North America and ANZ        7.2996                73.202629\n",
       "6       Sweden         Western Europe        7.3535                72.600769\n",
       "5  Netherlands         Western Europe        7.4489                72.300919\n",
       "4       Norway         Western Europe        7.4880                73.200783\n",
       "3      Iceland         Western Europe        7.5045                73.000000\n",
       "2  Switzerland         Western Europe        7.5599                74.102448\n",
       "1      Denmark         Western Europe        7.6456                72.402504\n",
       "0      Finland         Western Europe        7.8087                71.900825"
      ]
     },
     "execution_count": 158,
     "metadata": {},
     "output_type": "execute_result"
    }
   ],
   "source": [
    "df_ladder = df_happiness.sort_values(by='Ladder score', ascending=True)\n",
    "df_ladder.tail(10)\n"
   ]
  },
  {
   "cell_type": "code",
   "execution_count": 159,
   "metadata": {},
   "outputs": [
    {
     "data": {
      "text/plain": [
       "<AxesSubplot:title={'center':'Top 10 Happiest countries'}, ylabel='Country name'>"
      ]
     },
     "execution_count": 159,
     "metadata": {},
     "output_type": "execute_result"
    },
    {
     "data": {
      "image/png": "[encoded data removed]",
      "text/plain": [
       "<Figure size 864x576 with 1 Axes>"
      ]
     },
     "metadata": {
      "needs_background": "light"
     },
     "output_type": "display_data"
    }
   ],
   "source": [
    "df_ladder.tail(10).plot(\n",
    "    title = 'Top 10 Happiest countries',\n",
    "    kind='barh',    \n",
    "    figsize = [12, 8],\n",
    "    x = 'Country name',\n",
    "    y = 'Ladder score',\n",
    "    color='green'\n",
    ")"
   ]
  },
  {
   "cell_type": "markdown",
   "metadata": {},
   "source": [
    "Let's switch to have a look on the life expectancy."
   ]
  },
  {
   "cell_type": "code",
   "execution_count": 160,
   "metadata": {},
   "outputs": [
    {
     "data": {
      "text/plain": [
       "<AxesSubplot:>"
      ]
     },
     "execution_count": 160,
     "metadata": {},
     "output_type": "execute_result"
    },
    {
     "data": {
      "image/png": "[encoded data removed]",
      "text/plain": [
       "<Figure size 864x576 with 1 Axes>"
      ]
     },
     "metadata": {
      "needs_background": "light"
     },
     "output_type": "display_data"
    }
   ],
   "source": [
    "df_happiness['Healthy life expectancy'].plot(\n",
    "    kind = 'box',\n",
    "    figsize = [12, 8]\n",
    ")"
   ]
  },
  {
   "cell_type": "code",
   "execution_count": 161,
   "metadata": {},
   "outputs": [
    {
     "data": {
      "text/plain": [
       "count    153.000000\n",
       "mean      64.445529\n",
       "std        7.057848\n",
       "min       45.200001\n",
       "25%       58.961712\n",
       "50%       66.305145\n",
       "75%       69.289192\n",
       "max       76.804581\n",
       "Name: Healthy life expectancy, dtype: float64"
      ]
     },
     "execution_count": 161,
     "metadata": {},
     "output_type": "execute_result"
    }
   ],
   "source": [
    "df_happiness['Healthy life expectancy'].describe()"
   ]
  },
  {
   "cell_type": "markdown",
   "metadata": {},
   "source": [
    "Now, sort the countries by Health Life Expectancy."
   ]
  },
  {
   "cell_type": "code",
   "execution_count": 162,
   "metadata": {},
   "outputs": [
    {
     "data": {
      "text/html": [
       "<div>\n",
       "<style scoped>\n",
       "    .dataframe tbody tr th:only-of-type {\n",
       "        vertical-align: middle;\n",
       "    }\n",
       "\n",
       "    .dataframe tbody tr th {\n",
       "        vertical-align: top;\n",
       "    }\n",
       "\n",
       "    .dataframe thead th {\n",
       "        text-align: right;\n",
       "    }\n",
       "</style>\n",
       "<table border=\"1\" class=\"dataframe\">\n",
       "  <thead>\n",
       "    <tr style=\"text-align: right;\">\n",
       "      <th></th>\n",
       "      <th>Country name</th>\n",
       "      <th>Regional indicator</th>\n",
       "      <th>Ladder score</th>\n",
       "      <th>Healthy life expectancy</th>\n",
       "    </tr>\n",
       "  </thead>\n",
       "  <tbody>\n",
       "    <tr>\n",
       "      <th>60</th>\n",
       "      <td>South Korea</td>\n",
       "      <td>East Asia</td>\n",
       "      <td>5.8724</td>\n",
       "      <td>73.602730</td>\n",
       "    </tr>\n",
       "    <tr>\n",
       "      <th>11</th>\n",
       "      <td>Australia</td>\n",
       "      <td>North America and ANZ</td>\n",
       "      <td>7.2228</td>\n",
       "      <td>73.604538</td>\n",
       "    </tr>\n",
       "    <tr>\n",
       "      <th>44</th>\n",
       "      <td>Cyprus</td>\n",
       "      <td>Western Europe</td>\n",
       "      <td>6.1590</td>\n",
       "      <td>73.702225</td>\n",
       "    </tr>\n",
       "    <tr>\n",
       "      <th>75</th>\n",
       "      <td>North Cyprus</td>\n",
       "      <td>Western Europe</td>\n",
       "      <td>5.5355</td>\n",
       "      <td>73.702225</td>\n",
       "    </tr>\n",
       "    <tr>\n",
       "      <th>22</th>\n",
       "      <td>France</td>\n",
       "      <td>Western Europe</td>\n",
       "      <td>6.6638</td>\n",
       "      <td>73.801933</td>\n",
       "    </tr>\n",
       "    <tr>\n",
       "      <th>2</th>\n",
       "      <td>Switzerland</td>\n",
       "      <td>Western Europe</td>\n",
       "      <td>7.5599</td>\n",
       "      <td>74.102448</td>\n",
       "    </tr>\n",
       "    <tr>\n",
       "      <th>27</th>\n",
       "      <td>Spain</td>\n",
       "      <td>Western Europe</td>\n",
       "      <td>6.4009</td>\n",
       "      <td>74.402710</td>\n",
       "    </tr>\n",
       "    <tr>\n",
       "      <th>61</th>\n",
       "      <td>Japan</td>\n",
       "      <td>East Asia</td>\n",
       "      <td>5.8708</td>\n",
       "      <td>75.000969</td>\n",
       "    </tr>\n",
       "    <tr>\n",
       "      <th>77</th>\n",
       "      <td>Hong Kong</td>\n",
       "      <td>East Asia</td>\n",
       "      <td>5.5104</td>\n",
       "      <td>76.771706</td>\n",
       "    </tr>\n",
       "    <tr>\n",
       "      <th>30</th>\n",
       "      <td>Singapore</td>\n",
       "      <td>Southeast Asia</td>\n",
       "      <td>6.3771</td>\n",
       "      <td>76.804581</td>\n",
       "    </tr>\n",
       "  </tbody>\n",
       "</table>\n",
       "</div>"
      ],
      "text/plain": [
       "    Country name     Regional indicator  Ladder score  Healthy life expectancy\n",
       "60   South Korea              East Asia        5.8724                73.602730\n",
       "11     Australia  North America and ANZ        7.2228                73.604538\n",
       "44        Cyprus         Western Europe        6.1590                73.702225\n",
       "75  North Cyprus         Western Europe        5.5355                73.702225\n",
       "22        France         Western Europe        6.6638                73.801933\n",
       "2    Switzerland         Western Europe        7.5599                74.102448\n",
       "27         Spain         Western Europe        6.4009                74.402710\n",
       "61         Japan              East Asia        5.8708                75.000969\n",
       "77     Hong Kong              East Asia        5.5104                76.771706\n",
       "30     Singapore         Southeast Asia        6.3771                76.804581"
      ]
     },
     "execution_count": 162,
     "metadata": {},
     "output_type": "execute_result"
    }
   ],
   "source": [
    "df_health_life_expect_2020 = df_happiness.sort_values(by='Healthy life expectancy', ascending=True)\n",
    "df_health_life_expect_2020.tail(10)"
   ]
  },
  {
   "cell_type": "code",
   "execution_count": 163,
   "metadata": {},
   "outputs": [
    {
     "data": {
      "text/plain": [
       "<AxesSubplot:title={'center':'Top 10 countries with longest healthy life expectancy in 2020'}, ylabel='Country name'>"
      ]
     },
     "execution_count": 163,
     "metadata": {},
     "output_type": "execute_result"
    },
    {
     "data": {
      "image/png": "[encoded data removed]",
      "text/plain": [
       "<Figure size 1296x864 with 1 Axes>"
      ]
     },
     "metadata": {
      "needs_background": "light"
     },
     "output_type": "display_data"
    }
   ],
   "source": [
    "df_health_life_expect_2020 = df_happiness.sort_values(by='Healthy life expectancy', ascending=True)\n",
    "\n",
    "df_health_life_expect_2020.tail(10).plot(\n",
    "    title = 'Top 10 countries with longest healthy life expectancy in 2020',\n",
    "    kind='barh', \n",
    "    figsize = [18, 12],\n",
    "    x = 'Country name',\n",
    "    y = 'Healthy life expectancy',\n",
    "    color = 'purple'\n",
    ")"
   ]
  },
  {
   "cell_type": "markdown",
   "metadata": {},
   "source": [
    "**Answer to Q5**\n",
    "\n",
    "The result shows that the average Ladder score is 5.51, while the lower and upper percentiles are 4.72 and 6.22 respectively.\n",
    "\n",
    "Countries having the highest score in happiness is Finland, followed by Denmark and Switzerland. Except New Zealand, nine of top 10 countries having the highest score in happiness belong to European region. Surprisingly, none of the top 10 countries with most ranked university is on the list.\n",
    "\n",
    "For healthy life expectancy, the average health life expectancy is 66.31 years old, while the lower and upper percentiles are 58.96 years old and 69.29 years old respectively.\n",
    "\n",
    "Top countries/territories having the highest score in healthy life expectancy is Singapore, followed by Hong Kong, Japan, South Korea and Australia, all of which are also the top ten countries with most ranked universities."
   ]
  },
  {
   "cell_type": "markdown",
   "metadata": {},
   "source": [
    "**Q6. Is there a relationship between level of happiness and healthy life expectancy in each country based on the data in 2020?**"
   ]
  },
  {
   "cell_type": "code",
   "execution_count": 164,
   "metadata": {},
   "outputs": [
    {
     "name": "stdout",
     "output_type": "stream",
     "text": [
      "The correlation between Ladder score and Healthy life expectancy is 0.7703162898718497\n"
     ]
    },
    {
     "data": {
      "image/png": "[encoded data removed]",
      "text/plain": [
       "<Figure size 864x576 with 1 Axes>"
      ]
     },
     "metadata": {
      "needs_background": "light"
     },
     "output_type": "display_data"
    }
   ],
   "source": [
    "df_health_life_expect_2020.plot(\n",
    "    kind = 'scatter',\n",
    "    x = 'Ladder score',\n",
    "    y = 'Healthy life expectancy',\n",
    "    figsize=[12, 8],\n",
    "    color='green',\n",
    "    title='Relationship Between Uni number and Happiness (2020)'\n",
    ")\n",
    "\n",
    "correlation = df_health_life_expect_2020['Ladder score'].corr(df_health_life_expect_2020['Healthy life expectancy'])\n",
    "print(f'The correlation between Ladder score and Healthy life expectancy is {correlation}')"
   ]
  },
  {
   "cell_type": "markdown",
   "metadata": {},
   "source": [
    "**Answer to Q6**\n",
    "\n",
    "Though most of the top 10 on these two variables are not quite the same, a strong correlation between these two variables is found, with the coefficient 0.75."
   ]
  },
  {
   "cell_type": "markdown",
   "metadata": {},
   "source": [
    "**Q7. What is the change in healthy life expectancy from 1960 to 2020 worldwide?**\n",
    "\n",
    "Now, let's look at change of life expectancy from 1960 to 2020, from another dataset containing the change in these 60 years."
   ]
  },
  {
   "cell_type": "code",
   "execution_count": 165,
   "metadata": {},
   "outputs": [
    {
     "data": {
      "text/html": [
       "<div>\n",
       "<style scoped>\n",
       "    .dataframe tbody tr th:only-of-type {\n",
       "        vertical-align: middle;\n",
       "    }\n",
       "\n",
       "    .dataframe tbody tr th {\n",
       "        vertical-align: top;\n",
       "    }\n",
       "\n",
       "    .dataframe thead th {\n",
       "        text-align: right;\n",
       "    }\n",
       "</style>\n",
       "<table border=\"1\" class=\"dataframe\">\n",
       "  <thead>\n",
       "    <tr style=\"text-align: right;\">\n",
       "      <th></th>\n",
       "      <th>1960</th>\n",
       "      <th>2020</th>\n",
       "    </tr>\n",
       "  </thead>\n",
       "  <tbody>\n",
       "    <tr>\n",
       "      <th>count</th>\n",
       "      <td>237.000000</td>\n",
       "      <td>237.000000</td>\n",
       "    </tr>\n",
       "    <tr>\n",
       "      <th>mean</th>\n",
       "      <td>53.284177</td>\n",
       "      <td>72.452942</td>\n",
       "    </tr>\n",
       "    <tr>\n",
       "      <th>std</th>\n",
       "      <td>11.847831</td>\n",
       "      <td>7.088834</td>\n",
       "    </tr>\n",
       "    <tr>\n",
       "      <th>min</th>\n",
       "      <td>28.199000</td>\n",
       "      <td>53.679000</td>\n",
       "    </tr>\n",
       "    <tr>\n",
       "      <th>25%</th>\n",
       "      <td>43.250962</td>\n",
       "      <td>67.428000</td>\n",
       "    </tr>\n",
       "    <tr>\n",
       "      <th>50%</th>\n",
       "      <td>51.971000</td>\n",
       "      <td>73.628000</td>\n",
       "    </tr>\n",
       "    <tr>\n",
       "      <th>75%</th>\n",
       "      <td>63.881000</td>\n",
       "      <td>77.419000</td>\n",
       "    </tr>\n",
       "    <tr>\n",
       "      <th>max</th>\n",
       "      <td>73.549756</td>\n",
       "      <td>85.387805</td>\n",
       "    </tr>\n",
       "  </tbody>\n",
       "</table>\n",
       "</div>"
      ],
      "text/plain": [
       "             1960        2020\n",
       "count  237.000000  237.000000\n",
       "mean    53.284177   72.452942\n",
       "std     11.847831    7.088834\n",
       "min     28.199000   53.679000\n",
       "25%     43.250962   67.428000\n",
       "50%     51.971000   73.628000\n",
       "75%     63.881000   77.419000\n",
       "max     73.549756   85.387805"
      ]
     },
     "execution_count": 165,
     "metadata": {},
     "output_type": "execute_result"
    }
   ],
   "source": [
    "df_life_expect[['1960', '2020']].describe()"
   ]
  },
  {
   "cell_type": "code",
   "execution_count": 166,
   "metadata": {},
   "outputs": [
    {
     "data": {
      "text/plain": [
       "<AxesSubplot:xlabel='variable', ylabel='value'>"
      ]
     },
     "execution_count": 166,
     "metadata": {},
     "output_type": "execute_result"
    },
    {
     "data": {
      "image/png": "[encoded data removed]",
      "text/plain": [
       "<Figure size 432x288 with 1 Axes>"
      ]
     },
     "metadata": {
      "needs_background": "light"
     },
     "output_type": "display_data"
    }
   ],
   "source": [
    "df = pd.DataFrame(data = df_life_expect, columns = ['1960', '2020'])\n",
    "\n",
    "sns.boxplot(x=\"variable\", y=\"value\",  data=pd.melt(df))"
   ]
  },
  {
   "cell_type": "code",
   "execution_count": 167,
   "metadata": {},
   "outputs": [
    {
     "data": {
      "text/html": [
       "<div>\n",
       "<style scoped>\n",
       "    .dataframe tbody tr th:only-of-type {\n",
       "        vertical-align: middle;\n",
       "    }\n",
       "\n",
       "    .dataframe tbody tr th {\n",
       "        vertical-align: top;\n",
       "    }\n",
       "\n",
       "    .dataframe thead th {\n",
       "        text-align: right;\n",
       "    }\n",
       "</style>\n",
       "<table border=\"1\" class=\"dataframe\">\n",
       "  <thead>\n",
       "    <tr style=\"text-align: right;\">\n",
       "      <th></th>\n",
       "      <th>Country Name</th>\n",
       "      <th>Country Code</th>\n",
       "      <th>1960</th>\n",
       "      <th>2020</th>\n",
       "      <th>change_rate</th>\n",
       "    </tr>\n",
       "  </thead>\n",
       "  <tbody>\n",
       "    <tr>\n",
       "      <th>262</th>\n",
       "      <td>Yemen, Rep.</td>\n",
       "      <td>YEM</td>\n",
       "      <td>29.919</td>\n",
       "      <td>66.181</td>\n",
       "      <td>1.212006</td>\n",
       "    </tr>\n",
       "    <tr>\n",
       "      <th>152</th>\n",
       "      <td>Maldives</td>\n",
       "      <td>MDV</td>\n",
       "      <td>37.343</td>\n",
       "      <td>79.208</td>\n",
       "      <td>1.121094</td>\n",
       "    </tr>\n",
       "    <tr>\n",
       "      <th>158</th>\n",
       "      <td>Mali</td>\n",
       "      <td>MLI</td>\n",
       "      <td>28.199</td>\n",
       "      <td>59.692</td>\n",
       "      <td>1.116813</td>\n",
       "    </tr>\n",
       "    <tr>\n",
       "      <th>32</th>\n",
       "      <td>Bhutan</td>\n",
       "      <td>BTN</td>\n",
       "      <td>34.526</td>\n",
       "      <td>72.080</td>\n",
       "      <td>1.087702</td>\n",
       "    </tr>\n",
       "    <tr>\n",
       "      <th>237</th>\n",
       "      <td>Timor-Leste</td>\n",
       "      <td>TLS</td>\n",
       "      <td>33.729</td>\n",
       "      <td>69.712</td>\n",
       "      <td>1.066827</td>\n",
       "    </tr>\n",
       "    <tr>\n",
       "      <th>2</th>\n",
       "      <td>Afghanistan</td>\n",
       "      <td>AFG</td>\n",
       "      <td>32.446</td>\n",
       "      <td>65.173</td>\n",
       "      <td>1.008661</td>\n",
       "    </tr>\n",
       "    <tr>\n",
       "      <th>178</th>\n",
       "      <td>Nepal</td>\n",
       "      <td>NPL</td>\n",
       "      <td>35.583</td>\n",
       "      <td>71.067</td>\n",
       "      <td>0.997218</td>\n",
       "    </tr>\n",
       "    <tr>\n",
       "      <th>86</th>\n",
       "      <td>Gambia, The</td>\n",
       "      <td>GMB</td>\n",
       "      <td>32.054</td>\n",
       "      <td>62.383</td>\n",
       "      <td>0.946185</td>\n",
       "    </tr>\n",
       "    <tr>\n",
       "      <th>131</th>\n",
       "      <td>Liberia</td>\n",
       "      <td>LBR</td>\n",
       "      <td>34.264</td>\n",
       "      <td>64.423</td>\n",
       "      <td>0.880195</td>\n",
       "    </tr>\n",
       "    <tr>\n",
       "      <th>216</th>\n",
       "      <td>South Sudan</td>\n",
       "      <td>SSD</td>\n",
       "      <td>31.697</td>\n",
       "      <td>58.095</td>\n",
       "      <td>0.832823</td>\n",
       "    </tr>\n",
       "  </tbody>\n",
       "</table>\n",
       "</div>"
      ],
      "text/plain": [
       "    Country Name Country Code    1960    2020  change_rate\n",
       "262  Yemen, Rep.          YEM  29.919  66.181     1.212006\n",
       "152     Maldives          MDV  37.343  79.208     1.121094\n",
       "158         Mali          MLI  28.199  59.692     1.116813\n",
       "32        Bhutan          BTN  34.526  72.080     1.087702\n",
       "237  Timor-Leste          TLS  33.729  69.712     1.066827\n",
       "2    Afghanistan          AFG  32.446  65.173     1.008661\n",
       "178        Nepal          NPL  35.583  71.067     0.997218\n",
       "86   Gambia, The          GMB  32.054  62.383     0.946185\n",
       "131      Liberia          LBR  34.264  64.423     0.880195\n",
       "216  South Sudan          SSD  31.697  58.095     0.832823"
      ]
     },
     "execution_count": 167,
     "metadata": {},
     "output_type": "execute_result"
    }
   ],
   "source": [
    "df_life_expect['change_rate'] = (df_life_expect['2020'] - df_life_expect['1960']) /  df_life_expect['1960']\n",
    "df_life_expect = df_life_expect[['Country Name', 'Country Code', '1960',  '2020', 'change_rate']]\n",
    "\n",
    "df_life_expect.sort_values(by='change_rate', ascending=False,  inplace=True)\n",
    "df_life_expect.head(10)"
   ]
  },
  {
   "cell_type": "code",
   "execution_count": 168,
   "metadata": {},
   "outputs": [
    {
     "data": {
      "text/html": [
       "<div>\n",
       "<style scoped>\n",
       "    .dataframe tbody tr th:only-of-type {\n",
       "        vertical-align: middle;\n",
       "    }\n",
       "\n",
       "    .dataframe tbody tr th {\n",
       "        vertical-align: top;\n",
       "    }\n",
       "\n",
       "    .dataframe thead th {\n",
       "        text-align: right;\n",
       "    }\n",
       "</style>\n",
       "<table border=\"1\" class=\"dataframe\">\n",
       "  <thead>\n",
       "    <tr style=\"text-align: right;\">\n",
       "      <th></th>\n",
       "      <th>Country Name</th>\n",
       "      <th>Country Code</th>\n",
       "      <th>1960</th>\n",
       "      <th>2020</th>\n",
       "      <th>change_rate</th>\n",
       "    </tr>\n",
       "  </thead>\n",
       "  <tbody>\n",
       "  </tbody>\n",
       "</table>\n",
       "</div>"
      ],
      "text/plain": [
       "Empty DataFrame\n",
       "Columns: [Country Name, Country Code, 1960, 2020, change_rate]\n",
       "Index: []"
      ]
     },
     "execution_count": 168,
     "metadata": {},
     "output_type": "execute_result"
    }
   ],
   "source": [
    "df_highest_change = df_life_expect.head(10)\n",
    "df = df_highest_change[df_highest_change['Country Name'].isin(s_uni_country.keys())]\n",
    "df.head(10)"
   ]
  },
  {
   "cell_type": "markdown",
   "metadata": {},
   "source": [
    "Let's have a look the top 10 countries with most ranked university."
   ]
  },
  {
   "cell_type": "code",
   "execution_count": 169,
   "metadata": {},
   "outputs": [
    {
     "data": {
      "text/html": [
       "<div>\n",
       "<style scoped>\n",
       "    .dataframe tbody tr th:only-of-type {\n",
       "        vertical-align: middle;\n",
       "    }\n",
       "\n",
       "    .dataframe tbody tr th {\n",
       "        vertical-align: top;\n",
       "    }\n",
       "\n",
       "    .dataframe thead th {\n",
       "        text-align: right;\n",
       "    }\n",
       "</style>\n",
       "<table border=\"1\" class=\"dataframe\">\n",
       "  <thead>\n",
       "    <tr style=\"text-align: right;\">\n",
       "      <th></th>\n",
       "      <th>Country Name</th>\n",
       "      <th>Country Code</th>\n",
       "      <th>1960</th>\n",
       "      <th>2020</th>\n",
       "      <th>change_rate</th>\n",
       "    </tr>\n",
       "  </thead>\n",
       "  <tbody>\n",
       "    <tr>\n",
       "      <th>40</th>\n",
       "      <td>China</td>\n",
       "      <td>CHN</td>\n",
       "      <td>43.725000</td>\n",
       "      <td>77.097000</td>\n",
       "      <td>0.763225</td>\n",
       "    </tr>\n",
       "    <tr>\n",
       "      <th>126</th>\n",
       "      <td>South Korea</td>\n",
       "      <td>KOR</td>\n",
       "      <td>55.415537</td>\n",
       "      <td>83.426829</td>\n",
       "      <td>0.505477</td>\n",
       "    </tr>\n",
       "    <tr>\n",
       "      <th>119</th>\n",
       "      <td>Japan</td>\n",
       "      <td>JPN</td>\n",
       "      <td>67.666098</td>\n",
       "      <td>84.615610</td>\n",
       "      <td>0.250488</td>\n",
       "    </tr>\n",
       "    <tr>\n",
       "      <th>116</th>\n",
       "      <td>Italy</td>\n",
       "      <td>ITA</td>\n",
       "      <td>69.123902</td>\n",
       "      <td>82.343902</td>\n",
       "      <td>0.191251</td>\n",
       "    </tr>\n",
       "    <tr>\n",
       "      <th>77</th>\n",
       "      <td>France</td>\n",
       "      <td>FRA</td>\n",
       "      <td>69.868293</td>\n",
       "      <td>82.175610</td>\n",
       "      <td>0.176150</td>\n",
       "    </tr>\n",
       "    <tr>\n",
       "      <th>13</th>\n",
       "      <td>Australia</td>\n",
       "      <td>AUS</td>\n",
       "      <td>70.817073</td>\n",
       "      <td>83.200000</td>\n",
       "      <td>0.174858</td>\n",
       "    </tr>\n",
       "    <tr>\n",
       "      <th>55</th>\n",
       "      <td>Germany</td>\n",
       "      <td>DEU</td>\n",
       "      <td>69.310024</td>\n",
       "      <td>80.941463</td>\n",
       "      <td>0.167818</td>\n",
       "    </tr>\n",
       "    <tr>\n",
       "      <th>81</th>\n",
       "      <td>United Kingdom</td>\n",
       "      <td>GBR</td>\n",
       "      <td>71.126829</td>\n",
       "      <td>80.902439</td>\n",
       "      <td>0.137439</td>\n",
       "    </tr>\n",
       "    <tr>\n",
       "      <th>251</th>\n",
       "      <td>United States</td>\n",
       "      <td>USA</td>\n",
       "      <td>69.770732</td>\n",
       "      <td>77.280488</td>\n",
       "      <td>0.107635</td>\n",
       "    </tr>\n",
       "    <tr>\n",
       "      <th>202</th>\n",
       "      <td>Russia</td>\n",
       "      <td>RUS</td>\n",
       "      <td>66.055293</td>\n",
       "      <td>71.338780</td>\n",
       "      <td>0.079986</td>\n",
       "    </tr>\n",
       "  </tbody>\n",
       "</table>\n",
       "</div>"
      ],
      "text/plain": [
       "       Country Name Country Code       1960       2020  change_rate\n",
       "40            China          CHN  43.725000  77.097000     0.763225\n",
       "126     South Korea          KOR  55.415537  83.426829     0.505477\n",
       "119           Japan          JPN  67.666098  84.615610     0.250488\n",
       "116           Italy          ITA  69.123902  82.343902     0.191251\n",
       "77           France          FRA  69.868293  82.175610     0.176150\n",
       "13        Australia          AUS  70.817073  83.200000     0.174858\n",
       "55          Germany          DEU  69.310024  80.941463     0.167818\n",
       "81   United Kingdom          GBR  71.126829  80.902439     0.137439\n",
       "251   United States          USA  69.770732  77.280488     0.107635\n",
       "202          Russia          RUS  66.055293  71.338780     0.079986"
      ]
     },
     "execution_count": 169,
     "metadata": {},
     "output_type": "execute_result"
    }
   ],
   "source": [
    "df_top_10 = df_life_expect[df_life_expect['Country Name'].isin(s_uni_country_top10.keys())]\n",
    "df_top_10.head(10)"
   ]
  },
  {
   "cell_type": "markdown",
   "metadata": {},
   "source": [
    "**Answer to Q7**\n",
    "\n",
    "The average healthy life expectancy is shown to have increased significantly from 55 years old in 1960 to 73 years old in 2020. \n",
    "\n",
    "The top 10 countries experiencing the largest improvement in healthy life expectancy belong to developing countries, mainly located at South Asia and Africa. However, none of the top 10 countries with the largest improvement in healthy life expectancy is listed on countries being ranked at QS World University Rankings.\n",
    "\n",
    "Of the top 10 countries with most ranked universities, China, South Korea and Japan have comparatively larger improvement in healthy life expectancy than others."
   ]
  },
  {
   "cell_type": "markdown",
   "metadata": {},
   "source": [
    "**Q8. Is there a relationship between the number of ranked universities and the level of happiness and healthy life expectancy?**\n",
    "\n",
    "Lastly, let's see have they any relationship with the university number in the countries. "
   ]
  },
  {
   "cell_type": "code",
   "execution_count": 170,
   "metadata": {},
   "outputs": [
    {
     "name": "stdout",
     "output_type": "stream",
     "text": [
      "The correlation between University count and Ladder score is 0.2209579196750079\n"
     ]
    },
    {
     "data": {
      "image/png": "[encoded data removed]",
      "text/plain": [
       "<Figure size 864x576 with 1 Axes>"
      ]
     },
     "metadata": {
      "needs_background": "light"
     },
     "output_type": "display_data"
    }
   ],
   "source": [
    "df_uni_pop_happy = df_uni_pop.merge(df_happiness, how='left', left_on = 'country_name', right_on = 'Country name')\n",
    "df_uni_pop_happy.plot(\n",
    "    kind = 'scatter',\n",
    "    x = 'uni_count',\n",
    "    y = 'Ladder score',\n",
    "    figsize=[12, 8],\n",
    "    color='purple',\n",
    "    title='Relationship Between Uni number and Happiness in a country'\n",
    ")\n",
    "\n",
    "correlation = df_uni_pop_happy['uni_count'].corr(df_uni_pop_happy['Ladder score'])\n",
    "print(f'The correlation between University count and Ladder score is {correlation}')"
   ]
  },
  {
   "cell_type": "code",
   "execution_count": 171,
   "metadata": {},
   "outputs": [
    {
     "name": "stdout",
     "output_type": "stream",
     "text": [
      "The correlation between University count and Healthy life expectancy is 0.18201246096706275\n"
     ]
    },
    {
     "data": {
      "image/png": "[encoded data removed]",
      "text/plain": [
       "<Figure size 864x576 with 1 Axes>"
      ]
     },
     "metadata": {
      "needs_background": "light"
     },
     "output_type": "display_data"
    }
   ],
   "source": [
    "df_uni_pop_happy.plot(\n",
    "    kind = 'scatter',\n",
    "    x = 'uni_count',\n",
    "    y = 'Healthy life expectancy',\n",
    "    figsize=[12, 8],\n",
    "    color='purple',\n",
    "    title='Relationship Between Uni number and Happiness in a country'\n",
    ")\n",
    "\n",
    "correlation = df_uni_pop_happy['uni_count'].corr(df_uni_pop_happy['Healthy life expectancy'])\n",
    "print(f'The correlation between University count and Healthy life expectancy is {correlation}')"
   ]
  },
  {
   "cell_type": "markdown",
   "metadata": {},
   "source": [
    "Let's take the ratio to the population and area of the countries into account."
   ]
  },
  {
   "cell_type": "code",
   "execution_count": 177,
   "metadata": {},
   "outputs": [
    {
     "data": {
      "text/plain": [
       "Text(0.5, 1.0, 'Correlation of University Count with Level of Happiness and Healthy Life Expectancy')"
      ]
     },
     "execution_count": 177,
     "metadata": {},
     "output_type": "execute_result"
    },
    {
     "data": {
      "image/png": "[encoded data removed]",
      "text/plain": [
       "<Figure size 900x900 with 30 Axes>"
      ]
     },
     "metadata": {},
     "output_type": "display_data"
    }
   ],
   "source": [
    "df_uni_pop_area_happy = df_uni_pop_happy[['Country/Territory', 'uni_count', 'uni_per_million', 'uni_per_1000km2', 'Ladder score', 'Healthy life expectancy']]\n",
    "\n",
    "sns.set()\n",
    "s = sns.pairplot(\n",
    "    data = df_uni_pop_area_happy\n",
    ")\n",
    "s.fig.suptitle(\"Correlation of University Count with Level of Happiness and Healthy Life Expectancy\", y=1.0)"
   ]
  },
  {
   "cell_type": "code",
   "execution_count": 173,
   "metadata": {},
   "outputs": [
    {
     "data": {
      "text/html": [
       "<div>\n",
       "<style scoped>\n",
       "    .dataframe tbody tr th:only-of-type {\n",
       "        vertical-align: middle;\n",
       "    }\n",
       "\n",
       "    .dataframe tbody tr th {\n",
       "        vertical-align: top;\n",
       "    }\n",
       "\n",
       "    .dataframe thead th {\n",
       "        text-align: right;\n",
       "    }\n",
       "</style>\n",
       "<table border=\"1\" class=\"dataframe\">\n",
       "  <thead>\n",
       "    <tr style=\"text-align: right;\">\n",
       "      <th></th>\n",
       "      <th>uni_count</th>\n",
       "      <th>uni_per_million</th>\n",
       "      <th>uni_per_1000km2</th>\n",
       "      <th>Ladder score</th>\n",
       "      <th>Healthy life expectancy</th>\n",
       "    </tr>\n",
       "  </thead>\n",
       "  <tbody>\n",
       "    <tr>\n",
       "      <th>uni_count</th>\n",
       "      <td>1.000000</td>\n",
       "      <td>-0.016092</td>\n",
       "      <td>-0.062422</td>\n",
       "      <td>0.220958</td>\n",
       "      <td>0.182012</td>\n",
       "    </tr>\n",
       "    <tr>\n",
       "      <th>uni_per_million</th>\n",
       "      <td>-0.016092</td>\n",
       "      <td>1.000000</td>\n",
       "      <td>0.354954</td>\n",
       "      <td>0.596247</td>\n",
       "      <td>0.526728</td>\n",
       "    </tr>\n",
       "    <tr>\n",
       "      <th>uni_per_1000km2</th>\n",
       "      <td>-0.062422</td>\n",
       "      <td>0.354954</td>\n",
       "      <td>1.000000</td>\n",
       "      <td>0.061953</td>\n",
       "      <td>0.312415</td>\n",
       "    </tr>\n",
       "    <tr>\n",
       "      <th>Ladder score</th>\n",
       "      <td>0.220958</td>\n",
       "      <td>0.596247</td>\n",
       "      <td>0.061953</td>\n",
       "      <td>1.000000</td>\n",
       "      <td>0.682864</td>\n",
       "    </tr>\n",
       "    <tr>\n",
       "      <th>Healthy life expectancy</th>\n",
       "      <td>0.182012</td>\n",
       "      <td>0.526728</td>\n",
       "      <td>0.312415</td>\n",
       "      <td>0.682864</td>\n",
       "      <td>1.000000</td>\n",
       "    </tr>\n",
       "  </tbody>\n",
       "</table>\n",
       "</div>"
      ],
      "text/plain": [
       "                         uni_count  uni_per_million  uni_per_1000km2  \\\n",
       "uni_count                 1.000000        -0.016092        -0.062422   \n",
       "uni_per_million          -0.016092         1.000000         0.354954   \n",
       "uni_per_1000km2          -0.062422         0.354954         1.000000   \n",
       "Ladder score              0.220958         0.596247         0.061953   \n",
       "Healthy life expectancy   0.182012         0.526728         0.312415   \n",
       "\n",
       "                         Ladder score  Healthy life expectancy  \n",
       "uni_count                    0.220958                 0.182012  \n",
       "uni_per_million              0.596247                 0.526728  \n",
       "uni_per_1000km2              0.061953                 0.312415  \n",
       "Ladder score                 1.000000                 0.682864  \n",
       "Healthy life expectancy      0.682864                 1.000000  "
      ]
     },
     "execution_count": 173,
     "metadata": {},
     "output_type": "execute_result"
    }
   ],
   "source": [
    "df_uni_pop_area_happy.corr()"
   ]
  },
  {
   "cell_type": "markdown",
   "metadata": {},
   "source": [
    "**Answer to Q8**\n",
    "\n",
    "The result shows that there is a weak correlation between the number of universities and the level of happiness and healthy life expectancy, with the correlation coefficient around 0.2 for both variables.\n",
    "\n",
    "If the ratio takes into account the country’s Earth surface, the correlation coefficient is even less, meaning there is weaker correlation.\n",
    "\n",
    "However, when the ratio takes into account the number of ranked universities of each country/territory per capita, the correlation coefficient for the level of happiness and healthy life expectancy is around 0.59 and 0.52 respectively.  This shows a moderate correlation between the number of universities and the level of happiness and healthy life expectancy."
   ]
  },
  {
   "cell_type": "markdown",
   "metadata": {},
   "source": [
    "### **5. Findings and Conclusions** ### "
   ]
  },
  {
   "cell_type": "markdown",
   "metadata": {},
   "source": [
    "In the analysis, I found out that most ranked universities are located at United States, which accounts for 10% of all ranked universities worldwide. In terms of region, most ranked universities are located at Europe then Asia. There are more public ranked universities than private ones.\n",
    "\n",
    "There is no direct relationship between the number of ranked universities of any one country and its population.  In addition, Earth’s surface occupied by a country/territory is not indicative measure of the number of ranked universities in a given country/territory. \n",
    "\n",
    "Worth noting is both UK and South Korea have high ranked universities to Earth’s surface ratios, while being the top 10 countries with most ranked universities.\n",
    "\n",
    "On relationship between the number of ranked universities and the level of happiness and healthy life expectancy, none of the top 10 countries with most ranked universities is on the top 10 list of level of happiness and healthy life expectancy. \n",
    "\n",
    "In contrast, when only the level of happiness and healthy life expectancy are concerned, there is as expected a strong correlation between the two.\n",
    "\n",
    "The world’s average healthy life expectancy is shown to have increased significantly from 55 years old in 1960 to 73 years old in 2020. The top 10 countries experiencing the largest improvement in healthy life expectancy belong to developing countries, including Asia and Africa. However, none of the top 10 countries with the largest improvement in healthy life expectancy is listed on countries being ranked at QS World University Rankings.\n"
   ]
  },
  {
   "cell_type": "markdown",
   "metadata": {},
   "source": [
    "### **6. Recommendations** ###\n",
    "\n",
    "As the analysis is just based on the number of university in a country. I believe there will be more findings if more variables for a university, such as age, gender ratio, ethnic group etc are put into account for future analysis."
   ]
  },
  {
   "cell_type": "markdown",
   "metadata": {},
   "source": [
    "### **7. References** ###\n",
    "\n",
    "Banerjee, S. (2022) *World Population Dataset* [Online] kaggle.com. Available at https://www.kaggle.com/datasets/iamsouravbanerjee/world-population-dataset\n",
    "\n",
    "Londeen, M. (2020) *World Happiness Report 2020* [Online] kaggle.com. Available at https://www.kaggle.com/datasets/londeen/world-happiness-report-2020\n",
    "\n",
    "MUNIRAJ, P. (2022) *QS World University Rankings 2017 - 2022* [Online] kaggle.com. Available at https://www.kaggle.com/datasets/padhmam/qs-world-university-rankings-2017-2022\n",
    "\n",
    "The Data World Bank (2021) *Life expectancy at birth, total (years)* [Online] Available at https://data.worldbank.org/indicator/SP.DYN.LE00.IN?most_recent_year_desc=true\n",
    "\n",
    "The Economist (2021) Educated Americans live longer, as others die younger [Online] Available at https://www.economist.com/graphic-detail/2021/03/17/educated-americans-live-longer-as-others-die-younger\n",
    "\n"
   ]
  }
 ],
 "metadata": {
  "kernelspec": {
   "display_name": "Python 3.8.5 ('base')",
   "language": "python",
   "name": "python3"
  },
  "language_info": {
   "codemirror_mode": {
    "name": "ipython",
    "version": 3
   },
   "file_extension": ".py",
   "mimetype": "text/x-python",
   "name": "python",
   "nbconvert_exporter": "python",
   "pygments_lexer": "ipython3",
   "version": "3.8.5"
  },
  "vscode": {
   "interpreter": {
    "hash": "8826e55328f60cf26a56013024aeb9271647692e6e4e507e0dd5305558bdcafb"
   }
  }
 },
 "nbformat": 4,
 "nbformat_minor": 2
}
